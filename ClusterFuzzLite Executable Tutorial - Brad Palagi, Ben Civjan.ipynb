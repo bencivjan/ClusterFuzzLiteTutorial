{
 "cells": [
  {
   "cell_type": "markdown",
   "id": "68358593",
   "metadata": {},
   "source": [
    "# Rubric:\n",
    "\n",
    "|                                             | Yes | No | \n",
    "|-------------------------------------------- | ----|----|\n",
    "|executable: The tutorial can be automatically executed from beginning to the end, in the browser or in CI (see below) | Mandatory | - | \n",
    "|ilo: The tutorial states the intended learning outcomes. | Mandatory | - | \n",
    "|motivation: The tutorial is clearly motivated (why it matters for Devops?) | Yes | No | \n",
    "|browser-based: The tutorial can be successful executed in the browser (katacoda is recommended) | Yes | No | \n",
    "|ci-based: The tutorial can successful be executed as a CI job | Yes | No | \n",
    "|background: The tutorial gives enough background | Yes | No | \n",
    "|illustrated: The tutorial is illustrated with an informative figure (eg a flowchart) | Yes | No | \n",
    "|pedagogical: The tutorial is easy to follow  | Yes | No | \n",
    "|original: The tutorial is original, no or few similar tutorials exist on the web | Yes | No |\n",
    "|easter-eggs: The tutorial contains an easter egg | Yes | No | \n",
    "|language: The language is appropriate (structure, grammar, spelling) | Yes | No |\n"
   ]
  },
  {
   "cell_type": "markdown",
   "id": "a4f358d6",
   "metadata": {},
   "source": [
    "# ClusterFuzzLite Executable Tutorial - Brad Palagi, Ben Civjan"
   ]
  },
  {
   "cell_type": "markdown",
   "id": "91330dd0",
   "metadata": {},
   "source": [
    "## Intending Learning Outcomes:\n",
    "1. Backround on Fuzzing as a testing technique\n",
    "2. Explanation on the value of implementing Fuzzing as a CI DevOps fashion\n",
    "3. The ability to setup ClusterFuzzLight fuzzer on a Go project to be ran as a CI job with GitHub Actions in a git repo\n",
    "\n",
    "## Overview of what will be accomplished throughout this tutorial:\n",
    "\n",
    "1. Setting up ClusterFuzzLight on a Go project\n",
    "2. Integrating Fuzzing into a Git respository, using GitHub Actions to perform Fuzzing as a CI job \n",
    "3. Illustrated flowchart on the overall process of this fuzzing implementation\n",
    "\n",
    "\n",
    "\n",
    "\n",
    "\n",
    "\n"
   ]
  },
  {
   "cell_type": "markdown",
   "id": "e7383249",
   "metadata": {},
   "source": [
    "# Background:\n",
    "\n",
    "\"Fuzzing or fuzz testing is an automated software testing technique that involves providing invalid, unexpected, or random data as inputs to a computer program. The program is then monitored for exceptions such as crashes, failing built-in code assertions, or potential memory leaks.\" \n",
    "\n",
    "To improve the effectiveness of fuzzing beyond what can be acheived through pure random testing it is common to modify existing inputs rather than generate input from scratch.\n",
    "\n",
    "\"An effective fuzzer generates semi-valid inputs that are \"valid enough\" so that they are not directly rejected from the parser and \"invalid enough\" so that they might stress corner cases and exercise interesting program behaviours.\" \n",
    "There are several types of fuzzers, three are black-box, white-box, and grey-box.\n",
    "\n",
    "Black-box fuzzers are unaware of the program internals and an example would be to purely generate random inputs. The advantage to this type of fuzzer would be its ability to execute many inputs very quickly and to scale easily. Although, without leveraging program internals it is considered to be a shallow type of fuzzer which can only detect surface level bugs.\n",
    "\n",
    "White-box fuzzers are leveraging program internals in an attempt to increase code coverage and discover deeply hidden bugs. Specific locations in the program could be targeted using this type of fuzzer, making it highly effective. Although, there is a chance where this type of fuzzer takes much longer execute each input and would lead back to a black-box fuzzer being more effective. With this in mind there are attempts to create black-box fuzzers which learn about program internals to eventually perform similarly to a white-box fuzzer, this would be to \"combine the efficiency of blackbox fuzzers and the effectiveness of whitebox fuzzers\"\n",
    "\n",
    "Gray-box fuzzers use instrumentation to trace block transitions exercised by input which leads to a balance of performance as well as increased code coverage.\n",
    "\n",
    "https://en.wikipedia.org/wiki/Fuzzing\n",
    "\n",
    "\n",
    "\n",
    "# Value of Fuzztesting (in a CI Fasion)\n",
    "\n",
    "Fuzz testing itself can be valuable in finding bugs which were missed by test cases created by a developer. It would be impossible to think of all edge cases on ones own. \n",
    "\n",
    "To identify a bug a fuzzer needs to be able to determine a faulty behaviour from a feature. A typical fuzzer will report inputs that lead to a crash, and there are other sanitizers which can detect memory related errors, race conditions, undefined behaviour, etc.\n",
    "\n",
    "https://en.wikipedia.org/wiki/Fuzzing\n",
    "\n",
    "\n",
    "\n",
    "https://docs.google.com/document/d/1N-12_6YBPpF9o4_Zys_E_ZQndmD06wQVAM_0y9nZUIE/edit\n"
   ]
  },
  {
   "cell_type": "code",
   "execution_count": null,
   "id": "5330e8df",
   "metadata": {},
   "outputs": [],
   "source": []
  }
 ],
 "metadata": {
  "kernelspec": {
   "display_name": "Python 3 (ipykernel)",
   "language": "python",
   "name": "python3"
  },
  "language_info": {
   "codemirror_mode": {
    "name": "ipython",
    "version": 3
   },
   "file_extension": ".py",
   "mimetype": "text/x-python",
   "name": "python",
   "nbconvert_exporter": "python",
   "pygments_lexer": "ipython3",
   "version": "3.8.11"
  }
 },
 "nbformat": 4,
 "nbformat_minor": 5
}
